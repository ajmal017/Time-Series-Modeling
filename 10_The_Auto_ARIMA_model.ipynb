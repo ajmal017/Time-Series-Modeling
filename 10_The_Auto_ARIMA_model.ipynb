{
  "nbformat": 4,
  "nbformat_minor": 0,
  "metadata": {
    "colab": {
      "name": "10. The Auto ARIMA model.ipynb",
      "provenance": [],
      "collapsed_sections": [],
      "authorship_tag": "ABX9TyMm8FqAuncNsz4VEVKYiV36",
      "include_colab_link": true
    },
    "kernelspec": {
      "name": "python3",
      "display_name": "Python 3"
    }
  },
  "cells": [
    {
      "cell_type": "markdown",
      "metadata": {
        "id": "view-in-github",
        "colab_type": "text"
      },
      "source": [
        "<a href=\"https://colab.research.google.com/github/tanaymukherjee/Time-Series-Modeling/blob/master/10_The_Auto_ARIMA_model.ipynb\" target=\"_parent\"><img src=\"https://colab.research.google.com/assets/colab-badge.svg\" alt=\"Open In Colab\"/></a>"
      ]
    },
    {
      "cell_type": "markdown",
      "metadata": {
        "id": "rT1378K9iapT",
        "colab_type": "text"
      },
      "source": [
        "# Time Series Analysis"
      ]
    },
    {
      "cell_type": "markdown",
      "metadata": {
        "id": "mM1WVU2Iie0K",
        "colab_type": "text"
      },
      "source": [
        "### Definition:\n",
        "A sequence of information which attaches a time period to each value."
      ]
    },
    {
      "cell_type": "markdown",
      "metadata": {
        "id": "PfyEkXFujSyW",
        "colab_type": "text"
      },
      "source": [
        "### Common Objective:\n",
        "1. Determining the stability of financial markets and the efficiency portfolios.\n",
        "2. Weather forcasting based on past records."
      ]
    },
    {
      "cell_type": "markdown",
      "metadata": {
        "id": "4z-_nucZluTz",
        "colab_type": "text"
      },
      "source": [
        "#### Import Libraries"
      ]
    },
    {
      "cell_type": "code",
      "metadata": {
        "id": "bcw1FIsbiW-g",
        "colab_type": "code",
        "colab": {
          "base_uri": "https://localhost:8080/",
          "height": 369
        },
        "outputId": "5e027de4-e0c2-4145-82d8-963785c2f2b1"
      },
      "source": [
        "!pip install yfinance\n",
        "import numpy as np\n",
        "import pandas as pd\n",
        "import scipy\n",
        "import statsmodels.api as sm\n",
        "import matplotlib.pyplot as plt\n",
        "import seaborn as sns\n",
        "import sklearn\n",
        "from statsmodels.tsa.arima_model import ARIMA\n",
        "from arch import arch_model\n",
        "import seaborn as sns\n",
        "import yfinance\n",
        "import warnings\n",
        "warnings.filterwarnings(\"ignore\")\n",
        "sns.set()"
      ],
      "execution_count": 37,
      "outputs": [
        {
          "output_type": "stream",
          "text": [
            "Collecting yfinance\n",
            "  Downloading https://files.pythonhosted.org/packages/c2/31/8b374a12b90def92a4e27d0fc595fc43635f395984e36a075244d98bd265/yfinance-0.1.54.tar.gz\n",
            "Requirement already satisfied: pandas>=0.24 in /usr/local/lib/python3.6/dist-packages (from yfinance) (1.0.4)\n",
            "Requirement already satisfied: numpy>=1.15 in /usr/local/lib/python3.6/dist-packages (from yfinance) (1.18.5)\n",
            "Requirement already satisfied: requests>=2.20 in /usr/local/lib/python3.6/dist-packages (from yfinance) (2.23.0)\n",
            "Requirement already satisfied: multitasking>=0.0.7 in /usr/local/lib/python3.6/dist-packages (from yfinance) (0.0.9)\n",
            "Requirement already satisfied: pytz>=2017.2 in /usr/local/lib/python3.6/dist-packages (from pandas>=0.24->yfinance) (2018.9)\n",
            "Requirement already satisfied: python-dateutil>=2.6.1 in /usr/local/lib/python3.6/dist-packages (from pandas>=0.24->yfinance) (2.8.1)\n",
            "Requirement already satisfied: urllib3!=1.25.0,!=1.25.1,<1.26,>=1.21.1 in /usr/local/lib/python3.6/dist-packages (from requests>=2.20->yfinance) (1.24.3)\n",
            "Requirement already satisfied: certifi>=2017.4.17 in /usr/local/lib/python3.6/dist-packages (from requests>=2.20->yfinance) (2020.4.5.2)\n",
            "Requirement already satisfied: chardet<4,>=3.0.2 in /usr/local/lib/python3.6/dist-packages (from requests>=2.20->yfinance) (3.0.4)\n",
            "Requirement already satisfied: idna<3,>=2.5 in /usr/local/lib/python3.6/dist-packages (from requests>=2.20->yfinance) (2.9)\n",
            "Requirement already satisfied: six>=1.5 in /usr/local/lib/python3.6/dist-packages (from python-dateutil>=2.6.1->pandas>=0.24->yfinance) (1.12.0)\n",
            "Building wheels for collected packages: yfinance\n",
            "  Building wheel for yfinance (setup.py) ... \u001b[?25l\u001b[?25hdone\n",
            "  Created wheel for yfinance: filename=yfinance-0.1.54-py2.py3-none-any.whl size=22409 sha256=e0607fbcd96cee0f4b1fee846933b4e0b38c5f7418b72b1cef88bd38c054ed04\n",
            "  Stored in directory: /root/.cache/pip/wheels/f9/e3/5b/ec24dd2984b12d61e0abf26289746c2436a0e7844f26f2515c\n",
            "Successfully built yfinance\n",
            "Installing collected packages: yfinance\n",
            "Successfully installed yfinance-0.1.54\n"
          ],
          "name": "stdout"
        }
      ]
    },
    {
      "cell_type": "markdown",
      "metadata": {
        "id": "ziSvBzNuDFhz",
        "colab_type": "text"
      },
      "source": [
        "#### Importing the Data and Pre-processing"
      ]
    },
    {
      "cell_type": "code",
      "metadata": {
        "id": "ltCjZvf0XhQE",
        "colab_type": "code",
        "colab": {
          "base_uri": "https://localhost:8080/",
          "height": 35
        },
        "outputId": "d7b77661-c7a9-4510-a1a7-79162e465698"
      },
      "source": [
        "raw_data = yfinance.download (tickers = \"^GSPC ^FTSE ^N225 ^GDAXI\", start = \"1994-01-07\", end = \"2018-01-29\", \n",
        "                              interval = \"1d\", group_by = 'ticker', auto_adjust = True, treads = True)"
      ],
      "execution_count": 38,
      "outputs": [
        {
          "output_type": "stream",
          "text": [
            "[*********************100%***********************]  4 of 4 completed\n"
          ],
          "name": "stdout"
        }
      ]
    },
    {
      "cell_type": "code",
      "metadata": {
        "id": "p9qL8ALMDJHq",
        "colab_type": "code",
        "colab": {}
      },
      "source": [
        "df_comp = raw_data.copy()"
      ],
      "execution_count": 39,
      "outputs": []
    },
    {
      "cell_type": "code",
      "metadata": {
        "id": "e_tl1P_xuVX-",
        "colab_type": "code",
        "colab": {}
      },
      "source": [
        "df_comp['spx'] = df_comp['^GSPC'].Close[:]\n",
        "df_comp['dax'] = df_comp['^GDAXI'].Close[:]\n",
        "df_comp['ftse'] = df_comp['^FTSE'].Close[:]\n",
        "df_comp['nikkei'] = df_comp['^N225'].Close[:]"
      ],
      "execution_count": 40,
      "outputs": []
    },
    {
      "cell_type": "code",
      "metadata": {
        "id": "IatLdlZdym__",
        "colab_type": "code",
        "colab": {}
      },
      "source": [
        "df_comp = df_comp.iloc[1:]\n",
        "del df_comp['^N225']\n",
        "del df_comp['^GSPC']\n",
        "del df_comp['^GDAXI']\n",
        "del df_comp['^FTSE']\n",
        "df_comp=df_comp.asfreq('b')\n",
        "df_comp=df_comp.fillna(method='ffill')"
      ],
      "execution_count": 41,
      "outputs": []
    },
    {
      "cell_type": "code",
      "metadata": {
        "id": "ZLsS5jvBPbsy",
        "colab_type": "code",
        "colab": {}
      },
      "source": [
        "import warnings\n",
        "warnings.filterwarnings(\"ignore\")"
      ],
      "execution_count": 42,
      "outputs": []
    }
  ]
}